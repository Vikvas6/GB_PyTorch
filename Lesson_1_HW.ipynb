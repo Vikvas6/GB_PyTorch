{
 "cells": [
  {
   "cell_type": "markdown",
   "metadata": {},
   "source": [
    "## Добиться вразумительного результата от модели, собранной на занятии (3 угаданные картинки из 4 предложенных на семинаре). Варианты изменений:\n",
    "изменение слоёв и их количества; <br>\n",
    "изменение метода оптимизации;  <br>\n",
    "изменение процесса обучения;  <br>\n",
    "для продвинутых: преобразование данных."
   ]
  },
  {
   "cell_type": "markdown",
   "metadata": {},
   "source": [
    "Для получения результата 30+ правильных ответов на 40 первых примеров из теста оказалось достаточно поменять архитектуру сети (сделать 3 свёрточных слоя, вместо 2х) и поменять оптимизацию на Адам."
   ]
  },
  {
   "cell_type": "code",
   "execution_count": 1,
   "metadata": {},
   "outputs": [],
   "source": [
    "from torch import nn \n",
    "from torch import optim\n",
    "from torch.autograd import Variable\n",
    "import numpy as np\n",
    "\n",
    "import torchvision.transforms as transforms\n",
    "import matplotlib.pyplot as plt\n",
    "import torch\n",
    "import torchvision"
   ]
  },
  {
   "cell_type": "code",
   "execution_count": 2,
   "metadata": {},
   "outputs": [],
   "source": [
    "import os\n",
    "\n",
    "os.environ['KMP_DUPLICATE_LIB_OK']='True'"
   ]
  },
  {
   "cell_type": "code",
   "execution_count": 3,
   "metadata": {},
   "outputs": [
    {
     "name": "stdout",
     "output_type": "stream",
     "text": [
      "Files already downloaded and verified\n",
      "torch.Size([3, 32, 32])\n",
      "frog\n"
     ]
    }
   ],
   "source": [
    "classes = ('plane', 'car', 'bird', 'cat',\n",
    "           'deer', 'dog', 'frog', 'horse', 'ship', 'truck')\n",
    "train_dataset = torchvision.datasets.CIFAR10(root='./data/',\n",
    "                                             train=True,  \n",
    "                                             transform=transforms.ToTensor(), \n",
    "                                             download=True)\n",
    "\n",
    "\n",
    "image, label = train_dataset[0]\n",
    "print (image.size())\n",
    "print (classes[label])"
   ]
  },
  {
   "cell_type": "code",
   "execution_count": 4,
   "metadata": {},
   "outputs": [],
   "source": [
    "img = image.permute(1, 2, 0).numpy()"
   ]
  },
  {
   "cell_type": "code",
   "execution_count": 5,
   "metadata": {},
   "outputs": [
    {
     "data": {
      "text/plain": [
       "<matplotlib.image.AxesImage at 0x27cba76d850>"
      ]
     },
     "execution_count": 5,
     "metadata": {},
     "output_type": "execute_result"
    },
    {
     "data": {
      "image/png": "[encoded data removed]",
      "text/plain": [
       "<Figure size 432x288 with 1 Axes>"
      ]
     },
     "metadata": {
      "needs_background": "light"
     },
     "output_type": "display_data"
    }
   ],
   "source": [
    "plt.imshow(img)"
   ]
  },
  {
   "cell_type": "code",
   "execution_count": 6,
   "metadata": {},
   "outputs": [
    {
     "name": "stdout",
     "output_type": "stream",
     "text": [
      "Files already downloaded and verified\n"
     ]
    }
   ],
   "source": [
    "train_loader = torch.utils.data.DataLoader(dataset=train_dataset,\n",
    "                                           batch_size=64, \n",
    "                                           shuffle=True)\n",
    "test_dataset = torchvision.datasets.CIFAR10(root='./data', train=False,\n",
    "                                       download=True, transform=transforms.ToTensor())\n",
    "test_loader = torch.utils.data.DataLoader(test_dataset, batch_size=4,\n",
    "                                         shuffle=False)"
   ]
  },
  {
   "cell_type": "code",
   "execution_count": 7,
   "metadata": {},
   "outputs": [],
   "source": [
    "import torch.nn.functional as F\n",
    "\n",
    "\n",
    "class Net(nn.Module):\n",
    "    def __init__(self):\n",
    "        super().__init__() \n",
    "        # 3, 32, 32    \n",
    "        self.conv1 = nn.Conv2d(3, 32, 5, padding=2)\n",
    "        self.max_pool = nn.MaxPool2d(2, 2)\n",
    "        # 32, 16, 16\n",
    "        self.conv2 = nn.Conv2d(32, 64, 5, padding=2)\n",
    "        # self.max_pool = nn.MaxPool2d(2, 2)\n",
    "        # 64, 8, 8\n",
    "        self.conv3 = nn.Conv2d(64, 64, 5, padding=2)\n",
    "        # self.max_pool = nn.MaxPool2d(2, 2)\n",
    "        # 64, 4, 4\n",
    "        self.fc1 = nn.Linear(64 * 4 * 4, 256)\n",
    "        self.fc2 = nn.Linear(256, 10)\n",
    "\n",
    "    def forward(self, x):\n",
    "        x = F.relu(self.conv1(x))\n",
    "        x = self.max_pool(x)\n",
    "        x = F.relu(self.conv2(x))\n",
    "        x = self.max_pool(x)\n",
    "        x = F.relu(self.conv3(x))\n",
    "        x = self.max_pool(x)\n",
    "        \n",
    "        x = x.view(-1, 64 * 4 * 4)\n",
    "        x = F.relu(self.fc1(x))\n",
    "        x = self.fc2(x)\n",
    "        return x\n",
    "\n",
    "\n",
    "net = Net().to('cpu')"
   ]
  },
  {
   "cell_type": "code",
   "execution_count": 8,
   "metadata": {},
   "outputs": [],
   "source": [
    "criterion = nn.CrossEntropyLoss()\n",
    "optimizer = optim.Adam(net.parameters(), lr=0.001)"
   ]
  },
  {
   "cell_type": "code",
   "execution_count": 9,
   "metadata": {},
   "outputs": [],
   "source": [
    "def train(net, train_loader, optimizer, criterion, n_epochs=10):\n",
    "    for epoch in range(n_epochs): \n",
    "        running_loss = 0.0\n",
    "        for i, data in enumerate(train_loader, 0):\n",
    "            inputs, labels = data[0], data[1]\n",
    "\n",
    "            # обнуляем градиент\n",
    "            optimizer.zero_grad()\n",
    "\n",
    "            outputs = net(inputs)\n",
    "            loss = criterion(outputs, labels)\n",
    "            loss.backward()\n",
    "            optimizer.step()\n",
    "\n",
    "            # выводим статистику о процессе обучения\n",
    "            running_loss += loss.item()\n",
    "            if i % 300 == 0:   \n",
    "                print('[%d, %5d] loss: %.3f' %\n",
    "                      (epoch + 1, i + 1, running_loss / 2000))\n",
    "                running_loss = 0.0\n",
    "\n",
    "    print('Training is finished!')"
   ]
  },
  {
   "cell_type": "code",
   "execution_count": 10,
   "metadata": {},
   "outputs": [],
   "source": [
    "def save_model(net, path='./cifar_net_version_test_intro.pth'):\n",
    "    torch.save(net.state_dict(), path)"
   ]
  },
  {
   "cell_type": "code",
   "execution_count": 11,
   "metadata": {},
   "outputs": [],
   "source": [
    "def print_model(net):\n",
    "    print(\"Model state_dict: \")\n",
    "    for param in net.state_dict():\n",
    "        print(param,\" \\ \", net.state_dict()[param].size())"
   ]
  },
  {
   "cell_type": "code",
   "execution_count": 12,
   "metadata": {},
   "outputs": [],
   "source": [
    "def load_net(path='./cifar_net_version_test_intro.pth'):\n",
    "    net = Net()\n",
    "    net.load_state_dict(torch.load(PATH))\n",
    "    return net"
   ]
  },
  {
   "cell_type": "code",
   "execution_count": 13,
   "metadata": {},
   "outputs": [
    {
     "name": "stdout",
     "output_type": "stream",
     "text": [
      "Model state_dict: \n",
      "conv1.weight  \\  torch.Size([32, 3, 5, 5])\n",
      "conv1.bias  \\  torch.Size([32])\n",
      "conv2.weight  \\  torch.Size([64, 32, 5, 5])\n",
      "conv2.bias  \\  torch.Size([64])\n",
      "conv3.weight  \\  torch.Size([64, 64, 5, 5])\n",
      "conv3.bias  \\  torch.Size([64])\n",
      "fc1.weight  \\  torch.Size([256, 1024])\n",
      "fc1.bias  \\  torch.Size([256])\n",
      "fc2.weight  \\  torch.Size([10, 256])\n",
      "fc2.bias  \\  torch.Size([10])\n"
     ]
    }
   ],
   "source": [
    "print_model(net)"
   ]
  },
  {
   "cell_type": "code",
   "execution_count": 14,
   "metadata": {},
   "outputs": [
    {
     "name": "stdout",
     "output_type": "stream",
     "text": [
      "[1,     1] loss: 0.001\n",
      "[1,   301] loss: 0.267\n",
      "[1,   601] loss: 0.211\n",
      "[2,     1] loss: 0.001\n",
      "[2,   301] loss: 0.177\n",
      "[2,   601] loss: 0.164\n",
      "[3,     1] loss: 0.001\n",
      "[3,   301] loss: 0.143\n",
      "[3,   601] loss: 0.138\n",
      "[4,     1] loss: 0.000\n",
      "[4,   301] loss: 0.122\n",
      "[4,   601] loss: 0.118\n",
      "[5,     1] loss: 0.000\n",
      "[5,   301] loss: 0.105\n",
      "[5,   601] loss: 0.104\n",
      "[6,     1] loss: 0.000\n",
      "[6,   301] loss: 0.091\n",
      "[6,   601] loss: 0.094\n",
      "[7,     1] loss: 0.000\n",
      "[7,   301] loss: 0.081\n",
      "[7,   601] loss: 0.083\n",
      "[8,     1] loss: 0.000\n",
      "[8,   301] loss: 0.069\n",
      "[8,   601] loss: 0.073\n",
      "[9,     1] loss: 0.000\n",
      "[9,   301] loss: 0.061\n",
      "[9,   601] loss: 0.066\n",
      "[10,     1] loss: 0.000\n",
      "[10,   301] loss: 0.051\n",
      "[10,   601] loss: 0.056\n",
      "Training is finished!\n"
     ]
    }
   ],
   "source": [
    "train(net, train_loader, optimizer, criterion)"
   ]
  },
  {
   "cell_type": "code",
   "execution_count": 18,
   "metadata": {},
   "outputs": [],
   "source": [
    "save_model(net)"
   ]
  },
  {
   "cell_type": "code",
   "execution_count": 15,
   "metadata": {},
   "outputs": [],
   "source": [
    "def test_model(net, test_loader, classes=classes, n_times=1):\n",
    "    data_iter = iter(test_loader)\n",
    "    correct_sum = 0\n",
    "    total_count = 0\n",
    "    for i in range(n_times):\n",
    "        images, labels = data_iter.next()\n",
    "        outputs = net(images)\n",
    "        _, predicted = torch.max(outputs, 1)\n",
    "        correct_sum += np.sum((labels == predicted).numpy())\n",
    "        total_count += len(labels)\n",
    "    print(f\"Correct prediction: {correct_sum} Total count: {total_count}\")"
   ]
  },
  {
   "cell_type": "code",
   "execution_count": 16,
   "metadata": {},
   "outputs": [
    {
     "name": "stdout",
     "output_type": "stream",
     "text": [
      "Correct prediction: 34 Total count: 40\n"
     ]
    }
   ],
   "source": [
    "test_model(net, test_loader, n_times=10)"
   ]
  },
  {
   "cell_type": "markdown",
   "metadata": {},
   "source": [
    "## Взять часть, где мы делали один шаг обучения, и обернуть его в цикл по схеме, как обучали модель в конце занятия."
   ]
  },
  {
   "cell_type": "markdown",
   "metadata": {},
   "source": [
    "**Initialization**"
   ]
  },
  {
   "cell_type": "code",
   "execution_count": 17,
   "metadata": {},
   "outputs": [],
   "source": [
    "linear = nn.Linear(2, 2)\n",
    "criterion = nn.MSELoss()\n",
    "optimizer = torch.optim.SGD(linear.parameters(), lr=0.01)\n",
    "X = [Variable(torch.randn(2), requires_grad = True)]\n",
    "y = [Variable(torch.randn(2), requires_grad = False)]"
   ]
  },
  {
   "cell_type": "markdown",
   "metadata": {},
   "source": [
    "**Train step**"
   ]
  },
  {
   "cell_type": "code",
   "execution_count": 21,
   "metadata": {},
   "outputs": [
    {
     "name": "stdout",
     "output_type": "stream",
     "text": [
      "loss:  4.086215019226074\n",
      "[1,     1] loss: 0.002\n",
      "loss:  3.6865689754486084\n",
      "[2,     1] loss: 0.002\n",
      "loss:  3.3260090351104736\n",
      "[3,     1] loss: 0.002\n",
      "loss:  3.00071382522583\n",
      "[4,     1] loss: 0.002\n",
      "loss:  2.707233428955078\n",
      "[5,     1] loss: 0.001\n"
     ]
    }
   ],
   "source": [
    "N_EPOCHS = 5\n",
    "for epoch in range(N_EPOCHS):\n",
    "    running_loss = 0.0\n",
    "    \n",
    "    for i in range(len(X)):\n",
    "        optimizer.zero_grad()\n",
    "        pred = linear(X[i])\n",
    "        loss = criterion(pred, y[i])\n",
    "        print('loss: ', loss.item())\n",
    "        loss.backward()\n",
    "        optimizer.step()\n",
    "        # выводим статистику о процессе обучения\n",
    "        running_loss += loss.item()\n",
    "        if i % 1 == 0:   \n",
    "            print('[%d, %5d] loss: %.3f' %\n",
    "                  (epoch + 1, i + 1, running_loss / 2000))\n",
    "            running_loss = 0.0"
   ]
  },
  {
   "cell_type": "markdown",
   "metadata": {},
   "source": [
    "## Переписать программу на PyTorch"
   ]
  },
  {
   "cell_type": "code",
   "execution_count": null,
   "metadata": {},
   "outputs": [],
   "source": [
    "class Task3Net(nn.Module):\n",
    "    def __init__(self):\n",
    "        super().__init__() \n",
    "        self.fc1 = nn.Linear(28*28, 128)\n",
    "        self.dropout = nn.Dropout(p=0.2)\n",
    "        self.fc2 = nn.Linear(256, 10)\n",
    "\n",
    "    def forward(self, x):\n",
    "        x = x.view(-1, 28*28)\n",
    "        x = F.relu(self.fc1(x))\n",
    "        x = self.dropout(x)\n",
    "        x = F.softmax(x)\n",
    "        return x"
   ]
  },
  {
   "cell_type": "code",
   "execution_count": null,
   "metadata": {},
   "outputs": [],
   "source": [
    "optimizer = optim.Adam(net.parameters(), lr=0.001)\n",
    "loss = nn.CrossEntropyLoss()"
   ]
  }
 ],
 "metadata": {
  "kernelspec": {
   "display_name": "Python 3",
   "language": "python",
   "name": "python3"
  },
  "language_info": {
   "codemirror_mode": {
    "name": "ipython",
    "version": 3
   },
   "file_extension": ".py",
   "mimetype": "text/x-python",
   "name": "python",
   "nbconvert_exporter": "python",
   "pygments_lexer": "ipython3",
   "version": "3.8.3"
  }
 },
 "nbformat": 4,
 "nbformat_minor": 4
}
